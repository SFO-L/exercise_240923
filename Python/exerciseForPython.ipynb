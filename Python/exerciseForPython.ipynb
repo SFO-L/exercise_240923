{
 "cells": [
  {
   "cell_type": "markdown",
   "id": "5b9f4268",
   "metadata": {},
   "source": [
    "## Task1"
   ]
  },
  {
   "cell_type": "code",
   "execution_count": null,
   "id": "8abc28cd",
   "metadata": {},
   "outputs": [],
   "source": [
    "# Task 1.1 build a vocabulary for the given corpus\n",
    "#构建vocabulary\n",
    "import pandas as pd\n",
    "\n",
    "with open('../dataset/text8', 'r') as f:\n",
    "    text = f.read()\n",
    "\n",
    "words = text.split()\n",
    "\n",
    "df = pd.Series(words)\n",
    "words_frequent = df.value_counts()\n"
   ]
  },
  {
   "cell_type": "code",
   "execution_count": 6,
   "id": "8626cf63",
   "metadata": {},
   "outputs": [
    {
     "name": "stdout",
     "output_type": "stream",
     "text": [
      "the     7446708\n",
      "of      4453926\n",
      "one     3776770\n",
      "zero    3085174\n",
      "and     2916968\n",
      "in      2480552\n",
      "two     2339802\n",
      "a       2241744\n",
      "nine    2063649\n",
      "to      2028129\n",
      "dtype: int64\n"
     ]
    }
   ],
   "source": [
    "print(words_frequent[:10])\n",
    "\n",
    "with open('result/vocabulary.txt','w') as f:\n",
    "    for idx,(word,fren) in enumerate(words_frequent.items()):\n",
    "        f.write(f\"{idx}\\t{word}\\t{fren}\\n\")\n",
    "\n"
   ]
  },
  {
   "cell_type": "code",
   "execution_count": null,
   "id": "0f8e55cd",
   "metadata": {},
   "outputs": [],
   "source": [
    "# Task 1.2 Label the corpus by the vocabulary ID\n",
    "# 构建corpus_ids.txt\n",
    "with open('result/corpus_ids.txt','w') as f:\n",
    "    for t in words:\n",
    "        if t not in words_frequent.index:\n",
    "            print(f\" word {t} is OOV (out-of-vocabulary)\")\n",
    "        else:\n",
    "            f.write(str(words_frequent[t])+\" \")\n"
   ]
  },
  {
   "cell_type": "code",
   "execution_count": null,
   "id": "a83aaac5",
   "metadata": {},
   "outputs": [
    {
     "name": "stdout",
     "output_type": "stream",
     "text": [
      "处理完成，有效词数: 124301826, OOV 数: 0\n"
     ]
    }
   ],
   "source": [
    "# 构建corpus_ids.txt\n",
    "word_to_freq = words_frequent.to_dict()\n",
    "\n",
    "result = [str(word_to_freq[t]) for t in words if t in word_to_freq]\n",
    "\n",
    "with open('result/corpus_ids.txt', 'w') as f:\n",
    "    f.write(\" \".join(result))\n",
    "\n",
    "print(f\"处理完成，有效词数: {len(result)}, OOV 数: {len(words) - len(result)}\")"
   ]
  },
  {
   "cell_type": "markdown",
   "id": "5b4b16a2",
   "metadata": {},
   "source": [
    "## Task2"
   ]
  },
  {
   "cell_type": "code",
   "execution_count": 13,
   "id": "54d708de",
   "metadata": {},
   "outputs": [],
   "source": [
    "# 计算 Distinct-N 指标\n",
    "def distinct_n_score(words, n):\n",
    "    \n",
    "    if len(words) < n:\n",
    "        return 0.0\n",
    "\n",
    "    ngrams = [tuple(words[i:i+n]) for i in range(len(words) - n + 1)]\n",
    "    unique_ngrams = set(ngrams)\n",
    "    return len(unique_ngrams) / len(ngrams)"
   ]
  },
  {
   "cell_type": "code",
   "execution_count": null,
   "id": "87222595",
   "metadata": {},
   "outputs": [
    {
     "name": "stdout",
     "output_type": "stream",
     "text": [
      "distinct-1 = 0.006702910382024477\n"
     ]
    }
   ],
   "source": [
    "for n in [1, 2, 3, 4]:\n",
    "    score = distinct_n_score(words, n) \n",
    "    print(f\"distinct-{n} = {score}\")"
   ]
  },
  {
   "cell_type": "code",
   "execution_count": null,
   "id": "6f863488",
   "metadata": {},
   "outputs": [],
   "source": [
    "with open('../dataset/text8', 'r') as f:\n",
    "    text = f.read()\n",
    "\n",
    "words = text.split()"
   ]
  },
  {
   "cell_type": "code",
   "execution_count": null,
   "id": "091bd866",
   "metadata": {},
   "outputs": [],
   "source": [
    "#对tuple+切片优化\n",
    "from collections import deque\n",
    "def distinct_n_score_optimized(words, n):\n",
    "    if len(words) < n:\n",
    "        return 0.0\n",
    "\n",
    "    ngram_set = set()\n",
    "    window = deque(maxlen=n)\n",
    "    \n",
    "    # 初始化窗口前 n-1 个词\n",
    "    for i in range(n - 1):\n",
    "        window.append(words[i])\n",
    "    \n",
    "    count = 0\n",
    "    for i in range(n - 1, len(words)):\n",
    "        window.append(words[i])\n",
    "        ngram = tuple(window)\n",
    "        ngram_set.add(ngram)\n",
    "        count += 1\n",
    "\n",
    "    return len(ngram_set) / count"
   ]
  },
  {
   "cell_type": "code",
   "execution_count": 4,
   "id": "b87f09e6",
   "metadata": {},
   "outputs": [
    {
     "name": "stdout",
     "output_type": "stream",
     "text": [
      "distinct-1 = 0.006702910382024477\n",
      "distinct-2 = 0.13564060704659806\n",
      "distinct-3 = 0.4098650072906412\n",
      "distinct-4 = 0.6251402765026222\n"
     ]
    }
   ],
   "source": [
    "for n in [1, 2, 3, 4]:\n",
    "    score = distinct_n_score_optimized(words, n)\n",
    "    print(f\"distinct-{n} = {score}\")"
   ]
  }
 ],
 "metadata": {
  "kernelspec": {
   "display_name": "d2l",
   "language": "python",
   "name": "python3"
  },
  "language_info": {
   "codemirror_mode": {
    "name": "ipython",
    "version": 3
   },
   "file_extension": ".py",
   "mimetype": "text/x-python",
   "name": "python",
   "nbconvert_exporter": "python",
   "pygments_lexer": "ipython3",
   "version": "3.9.21"
  }
 },
 "nbformat": 4,
 "nbformat_minor": 5
}
